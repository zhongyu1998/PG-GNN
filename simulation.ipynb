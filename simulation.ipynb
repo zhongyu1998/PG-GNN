{
 "cells": [
  {
   "cell_type": "code",
   "execution_count": 1,
   "metadata": {},
   "outputs": [],
   "source": [
    "import numba as nb\n",
    "import numpy as np\n",
    "import pickle as pkl"
   ]
  },
  {
   "cell_type": "code",
   "execution_count": null,
   "metadata": {},
   "outputs": [],
   "source": []
  },
  {
   "cell_type": "markdown",
   "metadata": {},
   "source": [
    "### Coupon Collector's Problem"
   ]
  },
  {
   "cell_type": "markdown",
   "metadata": {},
   "source": [
    "$1$ coupon each time"
   ]
  },
  {
   "cell_type": "code",
   "execution_count": 2,
   "metadata": {},
   "outputs": [],
   "source": [
    "@nb.jit(nopython=True)\n",
    "def coupon(m):\n",
    "    coupons = set()  # coupon set\n",
    "    count = 0\n",
    "\n",
    "    while True:\n",
    "        x = np.random.randint(m)  # generate a coupon x randomly\n",
    "        coupons.add(x)  # add the new coupon x to the coupon set\n",
    "        count = count + 1\n",
    "        if len(coupons) == m:  # all m types of coupons have been collected\n",
    "            break\n",
    "\n",
    "    return count"
   ]
  },
  {
   "cell_type": "markdown",
   "metadata": {},
   "source": [
    "Test the average times for $m = 20$ coupons."
   ]
  },
  {
   "cell_type": "code",
   "execution_count": 3,
   "metadata": {},
   "outputs": [
    {
     "name": "stdout",
     "output_type": "stream",
     "text": [
      "71.5682 233\n"
     ]
    }
   ],
   "source": [
    "count_list = []\n",
    "\n",
    "for i in range(10000):\n",
    "    count = coupon(20)\n",
    "    count_list.append(count)\n",
    "\n",
    "count_array = np.array(count_list)\n",
    "print(count_array.mean(), count_array.max())"
   ]
  },
  {
   "cell_type": "markdown",
   "metadata": {},
   "source": [
    "$k$ ($k\\ge 2$) coupons each time"
   ]
  },
  {
   "cell_type": "code",
   "execution_count": 4,
   "metadata": {},
   "outputs": [],
   "source": [
    "@nb.jit(nopython=True)\n",
    "def coupon_k(m, k):\n",
    "    coupons = set()  # coupon set\n",
    "    count = 0\n",
    "\n",
    "    while True:\n",
    "        x = np.random.choice(m, size=k, replace=False)  # generate k coupons (k >= 1, without repetition) randomly\n",
    "        # coupons = coupons | set(x)\n",
    "        for i in range(k):  # add the k new coupons to the coupon set\n",
    "            coupons.add(x[i])\n",
    "        count = count + 1\n",
    "        if len(coupons) == m:  # all m types of coupons have been collected\n",
    "            break\n",
    "\n",
    "    return count"
   ]
  },
  {
   "cell_type": "markdown",
   "metadata": {},
   "source": [
    "Test the average times for $m = 10$ coupons, and each time we choose $k = 3$ coupons."
   ]
  },
  {
   "cell_type": "code",
   "execution_count": 5,
   "metadata": {},
   "outputs": [
    {
     "name": "stdout",
     "output_type": "stream",
     "text": [
      "9.0348 31\n"
     ]
    }
   ],
   "source": [
    "count_list = []\n",
    "\n",
    "for i in range(10000):\n",
    "    count = coupon_k(10, 3)\n",
    "    count_list.append(count)\n",
    "\n",
    "count_array = np.array(count_list)\n",
    "print(count_array.mean(), count_array.max())"
   ]
  },
  {
   "cell_type": "code",
   "execution_count": null,
   "metadata": {},
   "outputs": [],
   "source": []
  },
  {
   "cell_type": "markdown",
   "metadata": {},
   "source": [
    "### Complete Graph Covering Problem"
   ]
  },
  {
   "cell_type": "markdown",
   "metadata": {},
   "source": [
    "The results of the complete graph covering problem are equivalent to the average sampling times of $\\pi$-SGD: Suppose we sample a permutation of $n$ nodes randomly at each time. How many times does it take on average before any two nodes have become neighbors at least once?"
   ]
  },
  {
   "cell_type": "code",
   "execution_count": 6,
   "metadata": {},
   "outputs": [],
   "source": [
    "@nb.jit(nopython=True)\n",
    "def cover(n):\n",
    "    edges = set()  # edge set\n",
    "    count = 0\n",
    "    num_edges = int(n * (n-1))  # 2 * the number of edges in a complete graph K_n\n",
    "\n",
    "    while True:\n",
    "        p = np.random.permutation(n)  # generate an n-permutation (Hamiltonian path) randomly\n",
    "        count = count + 1\n",
    "\n",
    "        for k in range(n-1):  # construct the corresponding edges in the n-permutation (Hamiltonian path)\n",
    "            e = (p[k], p[k+1])  # construct a new directed edge e\n",
    "            edges.add(e)  # add the new edge e to the edge set\n",
    "            ##### please comment out the next line for directed cases #####\n",
    "            e_rvs = (p[k+1], p[k])  # reverse the directed edge e\n",
    "            edges.add(e_rvs)  # add the reversely directed edge e_rvs to the edge set\n",
    "\n",
    "        if len(edges) == num_edges:  # the complete graph K_n has been covered\n",
    "            break\n",
    "\n",
    "    return count"
   ]
  },
  {
   "cell_type": "markdown",
   "metadata": {},
   "source": [
    "Test the average times for $n = 10$ nodes."
   ]
  },
  {
   "cell_type": "code",
   "execution_count": 7,
   "metadata": {},
   "outputs": [
    {
     "name": "stdout",
     "output_type": "stream",
     "text": [
      "20.2659 55\n"
     ]
    }
   ],
   "source": [
    "count_list = []\n",
    "\n",
    "for i in range(10000):\n",
    "    count = cover(10)\n",
    "    count_list.append(count)\n",
    "\n",
    "count_array = np.array(count_list)\n",
    "print(count_array.mean(), count_array.max())"
   ]
  },
  {
   "cell_type": "code",
   "execution_count": null,
   "metadata": {},
   "outputs": [],
   "source": []
  },
  {
   "cell_type": "markdown",
   "metadata": {},
   "source": [
    "### Comparison of Results"
   ]
  },
  {
   "cell_type": "markdown",
   "metadata": {},
   "source": [
    "Calculate the results of coupon collector's problem, with the number of nodes $n$ taken from 1 to 100."
   ]
  },
  {
   "cell_type": "code",
   "execution_count": 8,
   "metadata": {},
   "outputs": [],
   "source": [
    "coupon_result = []\n",
    "\n",
    "for n in range(1, 101):\n",
    "    k = n - 1\n",
    "    m = int(n * (n-1) / 2)  # m = int(n * (n-1)) for directed cases\n",
    "    coupon_list = []\n",
    "    for i in range(10000):\n",
    "        count_coupon = coupon_k(m, k)\n",
    "        coupon_list.append(count_coupon)\n",
    "    coupon_array = np.array(coupon_list)\n",
    "    coupon_result.append(coupon_array.mean())\n",
    "    # print(n, coupon_array.mean())\n",
    "\n",
    "# with open(\"coupon_result.pickle\", 'wb') as f:\n",
    "#     pkl.dump(coupon_result, f)"
   ]
  },
  {
   "cell_type": "markdown",
   "metadata": {},
   "source": [
    "Calculate the results of complete graph covering problem, with the number of nodes $n$ taken from 1 to 100."
   ]
  },
  {
   "cell_type": "code",
   "execution_count": 9,
   "metadata": {},
   "outputs": [],
   "source": [
    "cover_result = []\n",
    "\n",
    "for n in range(1, 101):\n",
    "    cover_list = []\n",
    "    for i in range(10000):\n",
    "        count_cover = cover(n)\n",
    "        cover_list.append(count_cover)\n",
    "    cover_array = np.array(cover_list)\n",
    "    cover_result.append(cover_array.mean())\n",
    "    # print(n, cover_array.mean())\n",
    "\n",
    "# with open(\"cover_result.pickle\", 'wb') as f:\n",
    "#     pkl.dump(cover_result, f)"
   ]
  },
  {
   "cell_type": "markdown",
   "metadata": {},
   "source": [
    "Comparison"
   ]
  },
  {
   "cell_type": "code",
   "execution_count": 10,
   "metadata": {
    "scrolled": true
   },
   "outputs": [
    {
     "name": "stdout",
     "output_type": "stream",
     "text": [
      "n \t Coupon \t Cover (avg times)\n",
      "---------------------------------------------\n",
      "1 \t 1.0000 \t 1.0000\n",
      "2 \t 1.0000 \t 1.0000\n",
      "3 \t 2.5016 \t 2.4903\n",
      "4 \t 4.3077 \t 4.1853\n",
      "5 \t 6.4788 \t 6.2963\n",
      "6 \t 8.9973 \t 8.8005\n",
      "7 \t 11.5271 \t 11.4270\n",
      "8 \t 14.3898 \t 14.2770\n",
      "9 \t 17.3706 \t 17.1989\n",
      "10 \t 20.4025 \t 20.3587\n",
      "11 \t 23.6067 \t 23.5219\n",
      "12 \t 26.9507 \t 26.9066\n",
      "13 \t 30.3139 \t 30.3203\n",
      "14 \t 33.6650 \t 33.6813\n",
      "15 \t 37.2587 \t 37.3975\n",
      "16 \t 40.9407 \t 40.9211\n",
      "17 \t 44.3883 \t 44.5882\n",
      "18 \t 48.2013 \t 48.3560\n",
      "19 \t 52.1807 \t 52.0115\n",
      "20 \t 55.8813 \t 56.0006\n",
      "21 \t 59.7106 \t 59.7283\n",
      "22 \t 63.8763 \t 63.8467\n",
      "23 \t 68.0442 \t 67.9674\n",
      "24 \t 71.8257 \t 71.8489\n",
      "25 \t 75.8020 \t 76.0521\n",
      "26 \t 80.0733 \t 80.1358\n",
      "27 \t 84.0834 \t 84.1769\n",
      "28 \t 88.4062 \t 88.6117\n",
      "29 \t 92.5969 \t 92.4745\n",
      "30 \t 97.5968 \t 96.6826\n",
      "31 \t 101.3657 \t 101.4580\n",
      "32 \t 105.4870 \t 105.7047\n",
      "33 \t 110.3723 \t 110.0195\n",
      "34 \t 114.0602 \t 113.6935\n",
      "35 \t 118.8359 \t 118.9461\n",
      "36 \t 123.9651 \t 123.9354\n",
      "37 \t 127.7166 \t 128.4499\n",
      "38 \t 132.0647 \t 132.0986\n",
      "39 \t 137.2611 \t 137.3284\n",
      "40 \t 141.6260 \t 141.4073\n",
      "41 \t 146.1905 \t 146.1698\n",
      "42 \t 151.2778 \t 151.0081\n",
      "43 \t 155.5902 \t 154.9680\n",
      "44 \t 160.1902 \t 160.2899\n",
      "45 \t 164.7853 \t 164.9146\n",
      "46 \t 169.8397 \t 169.7805\n",
      "47 \t 174.7032 \t 175.0513\n",
      "48 \t 179.6522 \t 179.4978\n",
      "49 \t 184.4197 \t 184.0066\n",
      "50 \t 188.6791 \t 188.8858\n",
      "51 \t 193.4494 \t 193.5360\n",
      "52 \t 198.4837 \t 198.5213\n",
      "53 \t 203.2985 \t 203.4180\n",
      "54 \t 208.5924 \t 209.0448\n",
      "55 \t 213.2313 \t 213.0806\n",
      "56 \t 217.5188 \t 218.0031\n",
      "57 \t 223.4606 \t 223.8205\n",
      "58 \t 228.1511 \t 228.3347\n",
      "59 \t 233.1696 \t 232.6600\n",
      "60 \t 238.2353 \t 238.7997\n",
      "61 \t 242.9412 \t 243.7219\n",
      "62 \t 247.7554 \t 247.4385\n",
      "63 \t 253.3868 \t 253.3714\n",
      "64 \t 259.0851 \t 257.9728\n",
      "65 \t 264.0284 \t 264.0104\n",
      "66 \t 268.4330 \t 268.6047\n",
      "67 \t 273.6828 \t 273.7295\n",
      "68 \t 279.2329 \t 278.9162\n",
      "69 \t 283.4486 \t 283.9280\n",
      "70 \t 289.3319 \t 288.7196\n",
      "71 \t 293.6898 \t 295.2743\n",
      "72 \t 299.7644 \t 299.9439\n",
      "73 \t 304.3790 \t 304.1154\n",
      "74 \t 310.1395 \t 310.0458\n",
      "75 \t 315.3243 \t 314.6226\n",
      "76 \t 319.6531 \t 320.2555\n",
      "77 \t 326.0600 \t 325.6762\n",
      "78 \t 330.6202 \t 331.2159\n",
      "79 \t 336.7426 \t 336.4346\n",
      "80 \t 342.7569 \t 342.1855\n",
      "81 \t 346.5362 \t 346.7003\n",
      "82 \t 351.9482 \t 352.3463\n",
      "83 \t 357.8231 \t 357.4453\n",
      "84 \t 362.5077 \t 362.0272\n",
      "85 \t 368.4160 \t 368.9085\n",
      "86 \t 374.0587 \t 373.7370\n",
      "87 \t 378.9175 \t 379.5188\n",
      "88 \t 384.2114 \t 384.7991\n",
      "89 \t 389.0430 \t 389.7624\n",
      "90 \t 395.7467 \t 395.2806\n",
      "91 \t 400.4921 \t 400.8710\n",
      "92 \t 406.2911 \t 406.0662\n",
      "93 \t 412.1532 \t 411.3619\n",
      "94 \t 417.0107 \t 417.1278\n",
      "95 \t 422.9036 \t 423.0884\n",
      "96 \t 427.2680 \t 427.6824\n",
      "97 \t 433.0829 \t 433.3556\n",
      "98 \t 439.1229 \t 438.7761\n",
      "99 \t 445.2973 \t 443.9343\n",
      "100 \t 450.2670 \t 450.2508\n"
     ]
    }
   ],
   "source": [
    "print(\"n \\t Coupon \\t Cover (avg times)\")\n",
    "print(\"-\" * 45)\n",
    "for i in range(len(coupon_result)):\n",
    "    print(i+1, '\\t %.4f \\t %.4f' % (coupon_result[i], cover_result[i]))"
   ]
  },
  {
   "cell_type": "code",
   "execution_count": null,
   "metadata": {},
   "outputs": [],
   "source": []
  },
  {
   "cell_type": "markdown",
   "metadata": {},
   "source": [
    "### Plot for Results"
   ]
  },
  {
   "cell_type": "code",
   "execution_count": 11,
   "metadata": {},
   "outputs": [],
   "source": [
    "import matplotlib.pyplot as plt\n",
    "from IPython.display import Latex"
   ]
  },
  {
   "cell_type": "code",
   "execution_count": 12,
   "metadata": {},
   "outputs": [
    {
     "data": {
      "image/png": "[encoded data removed]",
      "text/plain": [
       "<Figure size 864x648 with 1 Axes>"
      ]
     },
     "metadata": {
      "needs_background": "light"
     },
     "output_type": "display_data"
    }
   ],
   "source": [
    "coupon_label = r\"$f\\,(n) = \\sum_{i=1}^{\\frac{n(n-1)}{2}} {(-1)^{i+1} \\frac{\\binom {\\frac{n(n-1)}{2}} {i}} {1-{\\binom {\\frac{n(n-1)}{2}-i} {n-1}} / {\\binom {\\frac{n(n-1)}{2}} {n-1}}}}$\"\n",
    "dicoupon_label = r\"$f\\,(n) = \\sum_{i=1}^{n(n-1)} {(-1)^{i+1} \\frac{\\binom {n(n-1)} {i}} {1-{\\binom {n(n-1)-i} {n-1}} / {\\binom {n(n-1)} {n-1}}}}$\"\n",
    "\n",
    "plt.figure(figsize=(12, 9))\n",
    "\n",
    "plt.plot(range(1, 101), [i/2 for i in range(1, 101)], color='darkgray', alpha=0.5, linestyle='-.', label=r\"$f\\,(n) = n/2$ (ours, undirected)\")\n",
    "plt.plot(range(1, 101), cover_result, color='dodgerblue', alpha=0.5, label=\"$\\pi$-SGD, undirected\")\n",
    "plt.plot(range(1, 101), [i * np.log(i) for i in range(1, 101)], color='orangered', alpha=0.5, linestyle='-.', label=r\"$f\\,(n) = n\\,\\ln n$\")\n",
    "\n",
    "# plt.scatter(range(10, 101, 10), [i/2 for i in range(10, 101, 10)], color='gray', marker='2')\n",
    "plt.scatter(range(10, 101, 10), cover_result[9:100:10], marker='2')\n",
    "plt.scatter(range(5, 101, 5), coupon_result[4:100:5], color='gold', alpha=0.5, label=coupon_label, marker='o', zorder=0)\n",
    "# plt.scatter(range(10, 101, 10), [i * np.log(i) for i in range(10, 101, 10)], marker='2')\n",
    "\n",
    "plt.xlabel(\"$n$\", fontsize=14)\n",
    "plt.ylabel(\"average times over 10,000 runs\", fontsize=14)\n",
    "plt.xticks([1,10,20,30,40,50,60,70,80,90,100], ['1','10','20','30','40','50','60','70','80','90','100'], fontsize=12)\n",
    "plt.yticks(fontsize=12)\n",
    "plt.legend(fontsize=14)\n",
    "plt.show()"
   ]
  }
 ],
 "metadata": {
  "kernelspec": {
   "display_name": "Python 3",
   "language": "python",
   "name": "python3"
  },
  "language_info": {
   "codemirror_mode": {
    "name": "ipython",
    "version": 3
   },
   "file_extension": ".py",
   "mimetype": "text/x-python",
   "name": "python",
   "nbconvert_exporter": "python",
   "pygments_lexer": "ipython3",
   "version": "3.7.4"
  }
 },
 "nbformat": 4,
 "nbformat_minor": 2
}
